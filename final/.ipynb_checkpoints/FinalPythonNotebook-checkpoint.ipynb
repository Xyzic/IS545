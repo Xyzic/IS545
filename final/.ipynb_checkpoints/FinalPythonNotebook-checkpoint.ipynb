{
 "cells": [
  {
   "cell_type": "code",
   "execution_count": 1,
   "id": "interpreted-faith",
   "metadata": {},
   "outputs": [],
   "source": [
    "import pandas as pd\n",
    "import pydeck as pdk\n",
    "import numpy as np\n",
    "import streamlit as st\n",
    "from datetime import timedelta\n",
    "import datetime\n",
    "import time\n",
    "import matplotlib.pyplot as plt\n",
    "import altair as alt\n",
    "\n",
    "data = pd.read_csv(\"https://raw.githubusercontent.com/Xyzic/IS545/main/final/datetime_Crimes.csv?token=AA6RB2VNCRKJCJNQURR467TASYBCM\")\n",
    "data['Date'] = pd.to_datetime(data['Date'])"
   ]
  },
  {
   "cell_type": "code",
   "execution_count": 2,
   "id": "engaging-repeat",
   "metadata": {},
   "outputs": [
    {
     "data": {
      "text/plain": [
       "'\\n# IS 545 Final Project - Het Patel\\n\\n_Disclaimer:_ I am using the data as it is given on the Chicago City data webpage\\nhttps://data.cityofchicago.org/Public-Safety/Crimes-2001-to-Present/ijzp-q8t2/data\\n\\nThis does not mean I agree with the data or that I claim that it is 100% valid and unbiased. \\nIt is just a dataset I have used for this project.\\n\\nAlso, there are some very sensitive topics shown. Proceed at your own discretion.\\n'"
      ]
     },
     "execution_count": 2,
     "metadata": {},
     "output_type": "execute_result"
    }
   ],
   "source": [
    "'''\n",
    "# IS 545 Final Project - Het Patel\n",
    "\n",
    "_Disclaimer:_ I am using the data as it is given on the Chicago City data webpage\n",
    "https://data.cityofchicago.org/Public-Safety/Crimes-2001-to-Present/ijzp-q8t2/data\n",
    "\n",
    "This does not mean I agree with the data or that I claim that it is 100% valid and unbiased. \n",
    "It is just a dataset I have used for this project.\n",
    "\n",
    "Also, there are some very sensitive topics shown. Proceed at your own discretion.\n",
    "'''"
   ]
  },
  {
   "cell_type": "code",
   "execution_count": 3,
   "id": "lyric-shakespeare",
   "metadata": {
    "scrolled": true
   },
   "outputs": [
    {
     "name": "stderr",
     "output_type": "stream",
     "text": [
      "2021-05-01 14:20:26.865 WARNING root: \n",
      "  \u001b[33m\u001b[1mWarning:\u001b[0m to view this Streamlit app on a browser, run it with the following\n",
      "  command:\n",
      "\n",
      "    streamlit run X:\\anaconda3\\envs\\is545-spr2021\\lib\\site-packages\\ipykernel_launcher.py [ARGUMENTS]\n"
     ]
    }
   ],
   "source": [
    "st.header(\"Crime Locations\")\n",
    "st.sidebar.title(\"Filter Data by Type(s) of Crimes\")\n",
    "filters = st.sidebar.multiselect(\n",
    "    \"What types of crimes would you like to see?\",\n",
    "    data[\"Primary Type\"].unique().tolist(),\n",
    "    help = \"Used for the 'Crime Locations' Map\"\n",
    ")\n",
    "\n",
    "st.write('Filter(s): ')\n",
    "for i in filters:\n",
    "    st.write(i)"
   ]
  },
  {
   "cell_type": "code",
   "execution_count": 4,
   "id": "distant-phenomenon",
   "metadata": {},
   "outputs": [],
   "source": [
    "filtered_data = data.loc[(data['Primary Type'].isin(filters))]\n",
    "latlonchic = filtered_data.filter(['Latitude', 'Longitude']).rename(columns = {\"Latitude\": \"lat\", \"Longitude\": \"lon\"}).dropna()"
   ]
  },
  {
   "cell_type": "code",
   "execution_count": 5,
   "id": "computational-brooklyn",
   "metadata": {},
   "outputs": [
    {
     "data": {
      "text/plain": [
       "DeltaGenerator(_root_container=0, _provided_cursor=None, _parent=None, _block_type=None)"
      ]
     },
     "execution_count": 5,
     "metadata": {},
     "output_type": "execute_result"
    }
   ],
   "source": [
    "layer = pdk.Layer(\n",
    "    \"ScatterplotLayer\",\n",
    "    data = latlonchic,\n",
    "    get_position=['lon', 'lat'],\n",
    "    auto_highlight=True,\n",
    "    get_radius=30,          # Radius is given in meters\n",
    "    get_fill_color=[255, 1, 1, 140],  # Set an RGBA value for fill\n",
    "    pickable=False)\n",
    "\n",
    "# Set the viewport location\n",
    "view_state = pdk.ViewState(\n",
    "    longitude=-87.6298, latitude= 41.8781, zoom=9, min_zoom=9, max_zoom=13, pitch=0, bearing=0\n",
    ")\n",
    "\n",
    "# Combined all of it and render a viewport\n",
    "r = pdk.Deck(\n",
    "    layers=[layer],\n",
    "    initial_view_state=view_state\n",
    ")\n",
    "st.pydeck_chart(r)"
   ]
  },
  {
   "cell_type": "code",
   "execution_count": 6,
   "id": "moral-samuel",
   "metadata": {},
   "outputs": [],
   "source": [
    "st.header(\"Crimes Filtered by the Day\")\n",
    "st.sidebar.title(\"Filter Data by the Day\")\n",
    "curr_day = st.sidebar.date_input(\"What day of all crimes do you want to see?\", datetime.date(2020, 1, 1), min_value = datetime.date(2020, 1, 1), max_value = datetime.date(2020, 12, 31), help = \"Used for the 'Crimes Filtered by the Day' Map\")\n",
    "\n",
    "typeList = data[\"Primary Type\"].unique().tolist()\n",
    "currDayDF = data.loc[(data['Date'].dt.date == curr_day)]\n",
    "runningtotal = {}\n",
    "for key in typeList:\n",
    "    temp = (currDayDF[currDayDF['Primary Type'] == str(key)])\n",
    "    runningtotal[key] = len(temp.index)\n",
    "\n",
    "st.write(\"Displayed Day: \", curr_day)\n",
    "st.write(\"*Totals by Type*\")\n",
    "st.write(runningtotal)"
   ]
  },
  {
   "cell_type": "code",
   "execution_count": 7,
   "id": "stable-symphony",
   "metadata": {},
   "outputs": [],
   "source": [
    "filtered_dayta = data.loc[(data['Date'].dt.date == curr_day)]\n",
    "latlonchicday = filtered_dayta.filter(['Latitude', 'Longitude']).rename(columns = {\"Latitude\": \"lat\", \"Longitude\": \"lon\"}).dropna()"
   ]
  },
  {
   "cell_type": "code",
   "execution_count": 8,
   "id": "meaningful-generic",
   "metadata": {},
   "outputs": [
    {
     "data": {
      "text/plain": [
       "DeltaGenerator(_root_container=0, _provided_cursor=None, _parent=None, _block_type=None)"
      ]
     },
     "execution_count": 8,
     "metadata": {},
     "output_type": "execute_result"
    }
   ],
   "source": [
    "daylayer = pdk.Layer(\n",
    "    \"ScatterplotLayer\",\n",
    "    data = latlonchicday,\n",
    "    get_position=['lon', 'lat'],\n",
    "    auto_highlight=True,\n",
    "    get_radius=100,          # Radius is given in meters\n",
    "    get_fill_color=[255, 1, 1, 140],  # Set an RGBA value for fill\n",
    "    pickable=False)\n",
    "\n",
    "# Set the viewport location\n",
    "view_state = pdk.ViewState(\n",
    "    longitude=-87.6298, latitude= 41.8781, zoom=9, min_zoom=9, max_zoom=15, pitch=0, bearing=0\n",
    ")\n",
    "\n",
    "# Combined all of it and render a viewport\n",
    "r2 = pdk.Deck(\n",
    "    layers=[daylayer],\n",
    "    initial_view_state=view_state\n",
    ")\n",
    "st.pydeck_chart(r2)"
   ]
  },
  {
   "cell_type": "code",
   "execution_count": 9,
   "id": "attractive-major",
   "metadata": {},
   "outputs": [
    {
     "data": {
      "text/plain": [
       "DeltaGenerator(_root_container=0, _provided_cursor=None, _parent=None, _block_type=None)"
      ]
     },
     "execution_count": 9,
     "metadata": {},
     "output_type": "execute_result"
    }
   ],
   "source": [
    "st.header(\"Totals of Crimes for a Date Range\")"
   ]
  },
  {
   "cell_type": "code",
   "execution_count": 10,
   "id": "young-batch",
   "metadata": {},
   "outputs": [],
   "source": [
    "st.sidebar.header(\"Totals of Types of Crimes in a Selected Date Range\")\n",
    "days_passed = st.sidebar.date_input(\"Show Crime Type Totals within this Range\", min_value = datetime.date(2020, 1, 1), \n",
    "                                    max_value = datetime.date(2020, 12, 31), \n",
    "                                    value = (datetime.date(2020, 1, 1), datetime.date(2020, 1, 2)), \n",
    "                                    help = \"Used for the Animated Line Chart\")\n",
    "req_date_init = days_passed[0].strftime(\"%B %d\")\n",
    "req_date_final = days_passed[1].strftime(\"%B %d\")"
   ]
  },
  {
   "cell_type": "code",
   "execution_count": 21,
   "id": "freelance-drink",
   "metadata": {},
   "outputs": [],
   "source": [
    "line_filters = st.sidebar.multiselect(\n",
    "    \"What types of crimes?\",\n",
    "    data[\"Primary Type\"].unique().tolist(),\n",
    ")\n",
    "line_filtered_data = data.loc[(data['Primary Type'].isin(line_filters))]\n",
    "st.write(\"Showing crimes of type(s): \", line_filters, \" from \", req_date_init, \" to \", req_date_final)"
   ]
  },
  {
   "cell_type": "code",
   "execution_count": 19,
   "id": "romantic-documentation",
   "metadata": {},
   "outputs": [
    {
     "name": "stderr",
     "output_type": "stream",
     "text": [
      "X:\\anaconda3\\envs\\is545-spr2021\\lib\\site-packages\\altair\\utils\\core.py:185: UserWarning: I don't know how to infer vegalite type from 'empty'.  Defaulting to nominal.\n",
      "  warnings.warn(\n"
     ]
    },
    {
     "data": {
      "text/plain": [
       "DeltaGenerator(_root_container=0, _provided_cursor=None, _parent=None, _block_type=None)"
      ]
     },
     "execution_count": 19,
     "metadata": {},
     "output_type": "execute_result"
    }
   ],
   "source": [
    "total_data = line_filtered_data[['Date', 'Primary Type']].copy()\n",
    "\n",
    "date_clumps = total_data.copy()\n",
    "date_clumps['Date'] = total_data['Date'].dt.date\n",
    "\n",
    "data_date_counts = date_clumps.groupby(['Date', 'Primary Type']).size().to_frame(name = \"Count\").reset_index()\n",
    "range_data = data_date_counts.loc[(data_date_counts['Date'] >= days_passed[0]) & (data_date_counts['Date'] <= days_passed[1])]\n",
    "\n",
    "final_data = range_data.copy()#.set_index('Date')\n",
    "# final_data['Date'] = pd.to_datetime(final_data['Date'])\n",
    "# final_data = final_data.set_index([final_data.index, 'Primary Type'])['Count'].unstack().fillna(0)\n",
    "\n",
    "plot_range = alt.Chart(final_data).mark_line().encode(\n",
    "    x = 'Date',\n",
    "    y = 'Count',\n",
    "    color = 'Primary Type'\n",
    ").properties(\n",
    "    width = 1400,\n",
    "    height= 750\n",
    ")\n",
    "\n",
    "st.altair_chart(plot_range)"
   ]
  },
  {
   "cell_type": "code",
   "execution_count": 12,
   "id": "federal-tennis",
   "metadata": {},
   "outputs": [
    {
     "data": {
      "text/plain": [
       "DeltaGenerator(_root_container=0, _provided_cursor=None, _parent=None, _block_type=None)"
      ]
     },
     "execution_count": 12,
     "metadata": {},
     "output_type": "execute_result"
    }
   ],
   "source": [
    "st.header(\"Crime Traffic by Location\")\n",
    "st.subheader(\"This hex plot shows the crime density by area in the city, filtered by the sidebar\")"
   ]
  },
  {
   "cell_type": "code",
   "execution_count": 26,
   "id": "alternate-companion",
   "metadata": {},
   "outputs": [
    {
     "data": {
      "text/plain": [
       "DeltaGenerator(_root_container=0, _provided_cursor=None, _parent=None, _block_type=None)"
      ]
     },
     "execution_count": 26,
     "metadata": {},
     "output_type": "execute_result"
    }
   ],
   "source": [
    "st.sidebar.title(\"Filter Hex Plot by Type(s) of Crimes\")\n",
    "hex_filters = st.sidebar.multiselect(\n",
    "    \"What types of crime areas would you like to see?\",\n",
    "    data[\"Primary Type\"].unique().tolist(),\n",
    "    help = \"Used for the Hexagon Map\"\n",
    ")\n",
    "\n",
    "hex_filtered_data = data.loc[(data['Primary Type'].isin(hex_filters))]\n",
    "latlonchichex = hex_filtered_data.filter(['Latitude', 'Longitude']).rename(columns = {\"Latitude\": \"lat\", \"Longitude\": \"lon\"}).dropna()\n",
    "\n",
    "\n",
    "layer2 = pdk.Layer(\n",
    "    'HexagonLayer',\n",
    "    latlonchichex,\n",
    "    get_position='[lon, lat]',\n",
    "    auto_highlight=True,\n",
    "    elevation_scale=20,\n",
    "    pickable=True,\n",
    "    elevation_range=[0, 3000],\n",
    "    extruded=True,\n",
    "    coverage=1)\n",
    "\n",
    "# Set the viewport location\n",
    "view_state_hex = pdk.ViewState(\n",
    "    longitude=-87.6298, latitude= 41.8781, zoom=9, min_zoom=8, max_zoom=13, pitch=40, bearing=50\n",
    ")\n",
    "\n",
    "# Combined all of it and render a viewport\n",
    "r3 = pdk.Deck(\n",
    "    layers=[layer2],\n",
    "    initial_view_state=view_state_hex,\n",
    "    tooltip={\n",
    "        'html': '<b>Crime Count:</b> {elevationValue}',\n",
    "        'style': {\n",
    "            'color': 'white'\n",
    "        }\n",
    "    }\n",
    ")\n",
    "st.pydeck_chart(r3)"
   ]
  },
  {
   "cell_type": "code",
   "execution_count": 13,
   "id": "alpine-profile",
   "metadata": {},
   "outputs": [
    {
     "data": {
      "text/plain": [
       "DeltaGenerator(_root_container=0, _provided_cursor=None, _parent=None, _block_type=None)"
      ]
     },
     "execution_count": 13,
     "metadata": {},
     "output_type": "execute_result"
    }
   ],
   "source": [
    "st.header(\"Crime Totals throughout the Day\")\n",
    "st.subheader(\"*A histogram, binned by the hour, of total crimes taken at that hour in 2020*\")"
   ]
  },
  {
   "cell_type": "code",
   "execution_count": 14,
   "id": "facial-sculpture",
   "metadata": {},
   "outputs": [],
   "source": [
    "hist_values = np.histogram(data['Date'].dt.hour, bins = 24, range = (0, 24))[0]\n",
    "st.bar_chart(hist_values)\n",
    "st.write(\"*Seems like midnight and noon are the most crime-heavy times.*\")\n",
    "st.write(\"*With 5 and 6 AM being the 'safest' times.*\")"
   ]
  },
  {
   "cell_type": "code",
   "execution_count": null,
   "id": "heavy-liberia",
   "metadata": {},
   "outputs": [],
   "source": []
  }
 ],
 "metadata": {
  "kernelspec": {
   "display_name": "Python 3",
   "language": "python",
   "name": "python3"
  },
  "language_info": {
   "codemirror_mode": {
    "name": "ipython",
    "version": 3
   },
   "file_extension": ".py",
   "mimetype": "text/x-python",
   "name": "python",
   "nbconvert_exporter": "python",
   "pygments_lexer": "ipython3",
   "version": "3.9.2"
  }
 },
 "nbformat": 4,
 "nbformat_minor": 5
}
