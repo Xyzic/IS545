{
 "cells": [
  {
   "cell_type": "code",
   "execution_count": 1,
   "id": "marked-convergence",
   "metadata": {},
   "outputs": [
    {
     "data": {
      "text/html": [
       "<div>\n",
       "<style scoped>\n",
       "    .dataframe tbody tr th:only-of-type {\n",
       "        vertical-align: middle;\n",
       "    }\n",
       "\n",
       "    .dataframe tbody tr th {\n",
       "        vertical-align: top;\n",
       "    }\n",
       "\n",
       "    .dataframe thead th {\n",
       "        text-align: right;\n",
       "    }\n",
       "</style>\n",
       "<table border=\"1\" class=\"dataframe\">\n",
       "  <thead>\n",
       "    <tr style=\"text-align: right;\">\n",
       "      <th></th>\n",
       "      <th>ID</th>\n",
       "      <th>Case Number</th>\n",
       "      <th>Date</th>\n",
       "      <th>Block</th>\n",
       "      <th>IUCR</th>\n",
       "      <th>Primary Type</th>\n",
       "      <th>Description</th>\n",
       "      <th>Location Description</th>\n",
       "      <th>Arrest</th>\n",
       "      <th>Domestic</th>\n",
       "      <th>...</th>\n",
       "      <th>Ward</th>\n",
       "      <th>Community Area</th>\n",
       "      <th>FBI Code</th>\n",
       "      <th>X Coordinate</th>\n",
       "      <th>Y Coordinate</th>\n",
       "      <th>Year</th>\n",
       "      <th>Updated On</th>\n",
       "      <th>Latitude</th>\n",
       "      <th>Longitude</th>\n",
       "      <th>Location</th>\n",
       "    </tr>\n",
       "  </thead>\n",
       "  <tbody>\n",
       "    <tr>\n",
       "      <th>0</th>\n",
       "      <td>12014684</td>\n",
       "      <td>JD189901</td>\n",
       "      <td>03/17/2020 09:30:00 PM</td>\n",
       "      <td>039XX N LECLAIRE AVE</td>\n",
       "      <td>0820</td>\n",
       "      <td>THEFT</td>\n",
       "      <td>$500 AND UNDER</td>\n",
       "      <td>STREET</td>\n",
       "      <td>False</td>\n",
       "      <td>False</td>\n",
       "      <td>...</td>\n",
       "      <td>45.0</td>\n",
       "      <td>15.0</td>\n",
       "      <td>06</td>\n",
       "      <td>1141659.0</td>\n",
       "      <td>1925649.0</td>\n",
       "      <td>2020</td>\n",
       "      <td>03/25/2020 03:45:43 PM</td>\n",
       "      <td>41.952052</td>\n",
       "      <td>-87.754660</td>\n",
       "      <td>(41.952051946, -87.754660372)</td>\n",
       "    </tr>\n",
       "    <tr>\n",
       "      <th>1</th>\n",
       "      <td>12012127</td>\n",
       "      <td>JD189186</td>\n",
       "      <td>03/18/2020 02:03:00 AM</td>\n",
       "      <td>039XX W JACKSON BLVD</td>\n",
       "      <td>0910</td>\n",
       "      <td>MOTOR VEHICLE THEFT</td>\n",
       "      <td>AUTOMOBILE</td>\n",
       "      <td>APARTMENT</td>\n",
       "      <td>False</td>\n",
       "      <td>True</td>\n",
       "      <td>...</td>\n",
       "      <td>28.0</td>\n",
       "      <td>26.0</td>\n",
       "      <td>07</td>\n",
       "      <td>1150196.0</td>\n",
       "      <td>1898398.0</td>\n",
       "      <td>2020</td>\n",
       "      <td>03/25/2020 03:47:29 PM</td>\n",
       "      <td>41.877110</td>\n",
       "      <td>-87.723990</td>\n",
       "      <td>(41.877110187, -87.723989719)</td>\n",
       "    </tr>\n",
       "    <tr>\n",
       "      <th>2</th>\n",
       "      <td>12012330</td>\n",
       "      <td>JD189367</td>\n",
       "      <td>03/18/2020 08:50:00 AM</td>\n",
       "      <td>023XX N KEELER AVE</td>\n",
       "      <td>0560</td>\n",
       "      <td>ASSAULT</td>\n",
       "      <td>SIMPLE</td>\n",
       "      <td>RESIDENCE</td>\n",
       "      <td>False</td>\n",
       "      <td>False</td>\n",
       "      <td>...</td>\n",
       "      <td>35.0</td>\n",
       "      <td>20.0</td>\n",
       "      <td>08A</td>\n",
       "      <td>1147996.0</td>\n",
       "      <td>1915240.0</td>\n",
       "      <td>2020</td>\n",
       "      <td>03/25/2020 03:47:29 PM</td>\n",
       "      <td>41.923369</td>\n",
       "      <td>-87.731634</td>\n",
       "      <td>(41.923368973, -87.731633833)</td>\n",
       "    </tr>\n",
       "    <tr>\n",
       "      <th>3</th>\n",
       "      <td>12014760</td>\n",
       "      <td>JD192130</td>\n",
       "      <td>03/18/2020 01:00:00 PM</td>\n",
       "      <td>047XX W MONROE ST</td>\n",
       "      <td>1150</td>\n",
       "      <td>DECEPTIVE PRACTICE</td>\n",
       "      <td>CREDIT CARD FRAUD</td>\n",
       "      <td>OTHER (SPECIFY)</td>\n",
       "      <td>False</td>\n",
       "      <td>False</td>\n",
       "      <td>...</td>\n",
       "      <td>28.0</td>\n",
       "      <td>25.0</td>\n",
       "      <td>11</td>\n",
       "      <td>1144749.0</td>\n",
       "      <td>1899145.0</td>\n",
       "      <td>2020</td>\n",
       "      <td>03/25/2020 03:47:29 PM</td>\n",
       "      <td>41.879264</td>\n",
       "      <td>-87.743971</td>\n",
       "      <td>(41.879264422, -87.743970898)</td>\n",
       "    </tr>\n",
       "    <tr>\n",
       "      <th>4</th>\n",
       "      <td>12012667</td>\n",
       "      <td>JD189808</td>\n",
       "      <td>03/18/2020 05:35:00 PM</td>\n",
       "      <td>003XX S CICERO AVE</td>\n",
       "      <td>2017</td>\n",
       "      <td>NARCOTICS</td>\n",
       "      <td>MANUFACTURE / DELIVER - CRACK</td>\n",
       "      <td>SIDEWALK</td>\n",
       "      <td>True</td>\n",
       "      <td>False</td>\n",
       "      <td>...</td>\n",
       "      <td>28.0</td>\n",
       "      <td>25.0</td>\n",
       "      <td>18</td>\n",
       "      <td>1144446.0</td>\n",
       "      <td>1898000.0</td>\n",
       "      <td>2020</td>\n",
       "      <td>03/25/2020 03:47:29 PM</td>\n",
       "      <td>41.876128</td>\n",
       "      <td>-87.745112</td>\n",
       "      <td>(41.876128106, -87.745112291)</td>\n",
       "    </tr>\n",
       "  </tbody>\n",
       "</table>\n",
       "<p>5 rows × 22 columns</p>\n",
       "</div>"
      ],
      "text/plain": [
       "         ID Case Number                    Date                 Block  IUCR  \\\n",
       "0  12014684    JD189901  03/17/2020 09:30:00 PM  039XX N LECLAIRE AVE  0820   \n",
       "1  12012127    JD189186  03/18/2020 02:03:00 AM  039XX W JACKSON BLVD  0910   \n",
       "2  12012330    JD189367  03/18/2020 08:50:00 AM    023XX N KEELER AVE  0560   \n",
       "3  12014760    JD192130  03/18/2020 01:00:00 PM     047XX W MONROE ST  1150   \n",
       "4  12012667    JD189808  03/18/2020 05:35:00 PM    003XX S CICERO AVE  2017   \n",
       "\n",
       "          Primary Type                    Description Location Description  \\\n",
       "0                THEFT                 $500 AND UNDER               STREET   \n",
       "1  MOTOR VEHICLE THEFT                     AUTOMOBILE            APARTMENT   \n",
       "2              ASSAULT                         SIMPLE            RESIDENCE   \n",
       "3   DECEPTIVE PRACTICE              CREDIT CARD FRAUD      OTHER (SPECIFY)   \n",
       "4            NARCOTICS  MANUFACTURE / DELIVER - CRACK             SIDEWALK   \n",
       "\n",
       "   Arrest  Domestic  ...  Ward  Community Area  FBI Code  X Coordinate  \\\n",
       "0   False     False  ...  45.0            15.0        06     1141659.0   \n",
       "1   False      True  ...  28.0            26.0        07     1150196.0   \n",
       "2   False     False  ...  35.0            20.0       08A     1147996.0   \n",
       "3   False     False  ...  28.0            25.0        11     1144749.0   \n",
       "4    True     False  ...  28.0            25.0        18     1144446.0   \n",
       "\n",
       "  Y Coordinate  Year              Updated On   Latitude  Longitude  \\\n",
       "0    1925649.0  2020  03/25/2020 03:45:43 PM  41.952052 -87.754660   \n",
       "1    1898398.0  2020  03/25/2020 03:47:29 PM  41.877110 -87.723990   \n",
       "2    1915240.0  2020  03/25/2020 03:47:29 PM  41.923369 -87.731634   \n",
       "3    1899145.0  2020  03/25/2020 03:47:29 PM  41.879264 -87.743971   \n",
       "4    1898000.0  2020  03/25/2020 03:47:29 PM  41.876128 -87.745112   \n",
       "\n",
       "                        Location  \n",
       "0  (41.952051946, -87.754660372)  \n",
       "1  (41.877110187, -87.723989719)  \n",
       "2  (41.923368973, -87.731633833)  \n",
       "3  (41.879264422, -87.743970898)  \n",
       "4  (41.876128106, -87.745112291)  \n",
       "\n",
       "[5 rows x 22 columns]"
      ]
     },
     "execution_count": 1,
     "metadata": {},
     "output_type": "execute_result"
    }
   ],
   "source": [
    "import pandas as pd\n",
    "import pydeck as pdk\n",
    "import numpy as np\n",
    "import streamlit as st\n",
    "import datetime\n",
    "\n",
    "data = pd.read_csv(\"https://raw.githubusercontent.com/Xyzic/IS545/main/datasets/Crimes_2020.csv?token=AA6RB2VV5Q7Q6DIWP4VSFV3ASFU4O\")\n",
    "\n",
    "data.head()"
   ]
  },
  {
   "cell_type": "code",
   "execution_count": 2,
   "id": "included-polymer",
   "metadata": {},
   "outputs": [
    {
     "data": {
      "text/plain": [
       "'\\n# IS 545 Final Project - Het Patel\\n\\n_Disclaimer:_ I am using the data as it is given on the Chicago City data webpage\\nhttps://data.cityofchicago.org/Public-Safety/Crimes-2001-to-Present/ijzp-q8t2/data\\n\\nThis does not mean I agree with the data or that I claim that it is 100% valid and unbiased. \\nIt is just a dataset I have used for this project.\\n\\nAlso, there are some very sensitive topics shown. Proceed at your own discretion.\\n'"
      ]
     },
     "execution_count": 2,
     "metadata": {},
     "output_type": "execute_result"
    }
   ],
   "source": [
    "'''\n",
    "# IS 545 Final Project - Het Patel\n",
    "\n",
    "_Disclaimer:_ I am using the data as it is given on the Chicago City data webpage\n",
    "https://data.cityofchicago.org/Public-Safety/Crimes-2001-to-Present/ijzp-q8t2/data\n",
    "\n",
    "This does not mean I agree with the data or that I claim that it is 100% valid and unbiased. \n",
    "It is just a dataset I have used for this project.\n",
    "\n",
    "Also, there are some very sensitive topics shown. Proceed at your own discretion.\n",
    "'''"
   ]
  },
  {
   "cell_type": "code",
   "execution_count": 12,
   "id": "lovely-plasma",
   "metadata": {
    "scrolled": true
   },
   "outputs": [
    {
     "name": "stderr",
     "output_type": "stream",
     "text": [
      "UsageError: Line magic function `%st.cache(suppress_st_warning=True)` not found.\n"
     ]
    }
   ],
   "source": [
    "st.sidebar.title(\"Filter Data by Type(s) of Crimes\")\n",
    "filters = st.sidebar.multiselect(\n",
    "    \"What types of crimes would you like to see?\",\n",
    "    data[\"Primary Type\"].unique().tolist()\n",
    ")\n",
    "\n",
    "st.write('Filter(s): ')\n",
    "for i in filters:\n",
    "    st.write(i)"
   ]
  },
  {
   "cell_type": "code",
   "execution_count": 4,
   "id": "serious-diesel",
   "metadata": {},
   "outputs": [],
   "source": [
    "filtered_data = data.loc[(data['Primary Type'].isin(filters))]\n",
    "latlonchic = filtered_data.filter(['Latitude', 'Longitude']).rename(columns = {\"Latitude\": \"lat\", \"Longitude\": \"lon\"}).dropna()"
   ]
  },
  {
   "cell_type": "code",
   "execution_count": 5,
   "id": "streaming-brisbane",
   "metadata": {},
   "outputs": [
    {
     "data": {
      "text/plain": [
       "DeltaGenerator(_root_container=0, _provided_cursor=None, _parent=None, _block_type=None)"
      ]
     },
     "execution_count": 5,
     "metadata": {},
     "output_type": "execute_result"
    }
   ],
   "source": [
    "layer = pdk.Layer(\n",
    "    \"ScatterplotLayer\",\n",
    "    data = latlonchic,\n",
    "    get_position=['lon', 'lat'],\n",
    "    auto_highlight=True,\n",
    "    get_radius=30,          # Radius is given in meters\n",
    "    get_fill_color=[255, 1, 1, 140],  # Set an RGBA value for fill\n",
    "    pickable=False)\n",
    "\n",
    "# Set the viewport location\n",
    "view_state = pdk.ViewState(\n",
    "    longitude=-87.6298, latitude= 41.8781, zoom=9, min_zoom=9, max_zoom=13, pitch=0, bearing=0\n",
    ")\n",
    "\n",
    "# Combined all of it and render a viewport\n",
    "r = pdk.Deck(\n",
    "    layers=[layer],\n",
    "    initial_view_state=view_state\n",
    ")\n",
    "st.pydeck_chart(r)"
   ]
  },
  {
   "cell_type": "code",
   "execution_count": 6,
   "id": "intellectual-channel",
   "metadata": {},
   "outputs": [],
   "source": [
    "st.header(\"Crimes Filtered by the Day\")\n",
    "st.sidebar.title(\"Filter Data by the Day\")\n",
    "curr_day = st.sidebar.date_input(\"What day of all crimes do you want to see?\", datetime.date(2020, 1, 1), min_value = datetime.date(2020, 1, 1), max_value = datetime.date(2020, 12, 31))"
   ]
  },
  {
   "cell_type": "code",
   "execution_count": 16,
   "id": "spoken-investing",
   "metadata": {},
   "outputs": [],
   "source": [
    "filtered_dayta = data.loc[(data['Date'].dt.date == curr_day)]\n",
    "latlonchicday = filtered_dayta.filter(['Latitude', 'Longitude']).rename(columns = {\"Latitude\": \"lat\", \"Longitude\": \"lon\"}).dropna()"
   ]
  },
  {
   "cell_type": "code",
   "execution_count": 17,
   "id": "received-scenario",
   "metadata": {},
   "outputs": [
    {
     "data": {
      "text/plain": [
       "DeltaGenerator(_root_container=0, _provided_cursor=None, _parent=None, _block_type=None)"
      ]
     },
     "execution_count": 17,
     "metadata": {},
     "output_type": "execute_result"
    }
   ],
   "source": [
    "daylayer = pdk.Layer(\n",
    "    \"ScatterplotLayer\",\n",
    "    data = latlonchicday,\n",
    "    get_position=['lon', 'lat'],\n",
    "    auto_highlight=True,\n",
    "    get_radius=30,          # Radius is given in meters\n",
    "    get_fill_color=[255, 1, 1, 140],  # Set an RGBA value for fill\n",
    "    pickable=False)\n",
    "\n",
    "# Set the viewport location\n",
    "view_state = pdk.ViewState(\n",
    "    longitude=-87.6298, latitude= 41.8781, zoom=9, min_zoom=9, max_zoom=13, pitch=0, bearing=0\n",
    ")\n",
    "\n",
    "# Combined all of it and render a viewport\n",
    "r2 = pdk.Deck(\n",
    "    layers=[daylayer],\n",
    "    initial_view_state=view_state\n",
    ")\n",
    "st.pydeck_chart(r2)"
   ]
  },
  {
   "cell_type": "code",
   "execution_count": 13,
   "id": "round-variable",
   "metadata": {},
   "outputs": [
    {
     "data": {
      "text/plain": [
       "DeltaGenerator(_root_container=0, _provided_cursor=None, _parent=None, _block_type=None)"
      ]
     },
     "execution_count": 13,
     "metadata": {},
     "output_type": "execute_result"
    }
   ],
   "source": [
    "# st.header(\"Crime Totals throughout the Day\")\n",
    "\n",
    "# st.cache(suppress_st_warning=True)\n",
    "# data_load_state = st.text('Converting data... (This will take awhile)')\n",
    "# data['Date'] = pd.to_datetime(data['Date'])\n",
    "# data_load_state.text(\"Done!\")\n"
   ]
  },
  {
   "cell_type": "code",
   "execution_count": 8,
   "id": "animal-welsh",
   "metadata": {},
   "outputs": [
    {
     "data": {
      "text/plain": [
       "DeltaGenerator(_root_container=0, _provided_cursor=None, _parent=None, _block_type=None)"
      ]
     },
     "execution_count": 8,
     "metadata": {},
     "output_type": "execute_result"
    }
   ],
   "source": [
    "# hist_values = np.histogram(data['Date'].dt.hour, bins = 24, range = (0, 24))[0]\n",
    "# st.bar_chart(hist_values)"
   ]
  },
  {
   "cell_type": "code",
   "execution_count": null,
   "id": "informational-toner",
   "metadata": {},
   "outputs": [],
   "source": [
    "data['Date'] = pd.to_datetime(data['Date'])\n",
    "data.to_csv(\"datetime_Crimes.csv\")"
   ]
  },
  {
   "cell_type": "code",
   "execution_count": null,
   "id": "criminal-holly",
   "metadata": {},
   "outputs": [],
   "source": []
  }
 ],
 "metadata": {
  "kernelspec": {
   "display_name": "Python 3",
   "language": "python",
   "name": "python3"
  },
  "language_info": {
   "codemirror_mode": {
    "name": "ipython",
    "version": 3
   },
   "file_extension": ".py",
   "mimetype": "text/x-python",
   "name": "python",
   "nbconvert_exporter": "python",
   "pygments_lexer": "ipython3",
   "version": "3.9.2"
  }
 },
 "nbformat": 4,
 "nbformat_minor": 5
}
